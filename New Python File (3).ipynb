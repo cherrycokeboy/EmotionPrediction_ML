{
 "cells": [
  {
   "cell_type": "markdown",
   "metadata": {},
   "source": [
    "Link to Data: https://archive.ics.uci.edu/ml/datasets/WESAD+%28Wearable+Stress+and+Affect+Detection%29"
   ]
  },
  {
   "cell_type": "markdown",
   "metadata": {},
   "source": [
    "# Machine Learning\n",
    "In this program, I follow the basic steps to completing a machine learning project on the WESAD data to determine if it is possible to notice a difference between someone who is very stress, or very amused. I use sklearn to accomplish the machine learning. "
   ]
  },
  {
   "cell_type": "code",
   "execution_count": 23,
   "metadata": {},
   "outputs": [],
   "source": [
    "from sklearn.preprocessing import StandardScaler\n",
    "from sklearn.metrics import accuracy_score, mean_squared_error, precision_recall_curve\n",
    "from sklearn.model_selection import train_test_split, cross_val_predict, cross_val_score, RandomizedSearchCV\n",
    "from sklearn.decomposition import PCA\n",
    "from sklearn.linear_model import LogisticRegression, SGDClassifier\n",
    "from sklearn.svm import LinearSVC\n",
    "from sklearn.neighbors import KNeighborsClassifier\n",
    "from sklearn.ensemble import RandomForestClassifier, VotingClassifier\n",
    "import matplotlib.pyplot as plt\n",
    "import numpy as np\n",
    "import pandas as pd\n",
    "import pickle\n",
    "from sklearn.metrics import roc_curve, confusion_matrix, precision_score, recall_score, f1_score\n",
    "from scipy.stats import randint as sp_randint\n",
    "def warn(*args, **kwargs):\n",
    "    pass\n",
    "import warnings\n",
    "warnings.warn = warn\n",
    "#import tensorflow as tf"
   ]
  },
  {
   "cell_type": "markdown",
   "metadata": {},
   "source": [
    "## Intial Preperation\n",
    "Before I can split the data into train and test sets, I needed to read in the data and remove some of the not as important lines (NaN data) and columns (start times, unnamed columns, subject etc.) Once the data only had interesting columns and rows, we looked at a describtion of the data and noticed some variablity in the differences in means. So after we split the data into train and test sets, we preformed a standarized scaler."
   ]
  },
  {
   "cell_type": "code",
   "execution_count": 24,
   "metadata": {},
   "outputs": [],
   "source": [
    "df = pd.read_csv('alldata.csv')\n",
    "df.dropna(how='all',inplace=True)\n",
    "dfmeans = df.mean(axis=0)\n",
    "df.replace(np.nan,dfmeans,inplace=True)"
   ]
  },
  {
   "cell_type": "code",
   "execution_count": 25,
   "metadata": {},
   "outputs": [
    {
     "data": {
      "text/html": [
       "<div>\n",
       "<style scoped>\n",
       "    .dataframe tbody tr th:only-of-type {\n",
       "        vertical-align: middle;\n",
       "    }\n",
       "\n",
       "    .dataframe tbody tr th {\n",
       "        vertical-align: top;\n",
       "    }\n",
       "\n",
       "    .dataframe thead th {\n",
       "        text-align: right;\n",
       "    }\n",
       "</style>\n",
       "<table border=\"1\" class=\"dataframe\">\n",
       "  <thead>\n",
       "    <tr style=\"text-align: right;\">\n",
       "      <th></th>\n",
       "      <th>meanHrECG</th>\n",
       "      <th>medianHrECG</th>\n",
       "      <th>stdHrECG</th>\n",
       "      <th>varHrECG</th>\n",
       "      <th>meanHrvECG</th>\n",
       "      <th>medianHrvECG</th>\n",
       "      <th>stdHrvECG</th>\n",
       "      <th>varHrvECG</th>\n",
       "      <th>rmssdECG</th>\n",
       "      <th>sdnnECG</th>\n",
       "      <th>...</th>\n",
       "      <th>maxEMG</th>\n",
       "      <th>minEMG</th>\n",
       "      <th>rangeEMG</th>\n",
       "      <th>slopeEMG</th>\n",
       "      <th>meanEMG.1</th>\n",
       "      <th>standard_deviationEMG.1</th>\n",
       "      <th>maxEMG.1</th>\n",
       "      <th>minEMG.1</th>\n",
       "      <th>rangeEMG.1</th>\n",
       "      <th>slopeEMG.1</th>\n",
       "    </tr>\n",
       "  </thead>\n",
       "  <tbody>\n",
       "    <tr>\n",
       "      <th>count</th>\n",
       "      <td>61967.000000</td>\n",
       "      <td>61967.000000</td>\n",
       "      <td>61967.000000</td>\n",
       "      <td>61967.000000</td>\n",
       "      <td>61967.000000</td>\n",
       "      <td>61967.000000</td>\n",
       "      <td>61967.000000</td>\n",
       "      <td>61967.000000</td>\n",
       "      <td>61967.000000</td>\n",
       "      <td>61967.000000</td>\n",
       "      <td>...</td>\n",
       "      <td>61967.000000</td>\n",
       "      <td>61967.000000</td>\n",
       "      <td>61967.000000</td>\n",
       "      <td>6.196700e+04</td>\n",
       "      <td>61967.000000</td>\n",
       "      <td>61967.000000</td>\n",
       "      <td>61967.000000</td>\n",
       "      <td>61967.000000</td>\n",
       "      <td>61967.000000</td>\n",
       "      <td>6.196700e+04</td>\n",
       "    </tr>\n",
       "    <tr>\n",
       "      <th>mean</th>\n",
       "      <td>89.026910</td>\n",
       "      <td>89.140086</td>\n",
       "      <td>7.770233</td>\n",
       "      <td>72.198734</td>\n",
       "      <td>715.590683</td>\n",
       "      <td>709.937213</td>\n",
       "      <td>68.066695</td>\n",
       "      <td>5850.622679</td>\n",
       "      <td>50.795323</td>\n",
       "      <td>68.725053</td>\n",
       "      <td>...</td>\n",
       "      <td>0.078712</td>\n",
       "      <td>-0.093777</td>\n",
       "      <td>0.172488</td>\n",
       "      <td>-3.217047e-09</td>\n",
       "      <td>-0.002932</td>\n",
       "      <td>0.014236</td>\n",
       "      <td>0.126293</td>\n",
       "      <td>-0.132217</td>\n",
       "      <td>0.258509</td>\n",
       "      <td>1.200035e-09</td>\n",
       "    </tr>\n",
       "    <tr>\n",
       "      <th>std</th>\n",
       "      <td>20.491811</td>\n",
       "      <td>21.164442</td>\n",
       "      <td>3.438373</td>\n",
       "      <td>76.888981</td>\n",
       "      <td>157.587127</td>\n",
       "      <td>161.326563</td>\n",
       "      <td>34.893657</td>\n",
       "      <td>6037.382592</td>\n",
       "      <td>44.263938</td>\n",
       "      <td>35.117294</td>\n",
       "      <td>...</td>\n",
       "      <td>0.050872</td>\n",
       "      <td>0.055850</td>\n",
       "      <td>0.104647</td>\n",
       "      <td>2.739441e-07</td>\n",
       "      <td>0.001412</td>\n",
       "      <td>0.007998</td>\n",
       "      <td>0.115837</td>\n",
       "      <td>0.144272</td>\n",
       "      <td>0.240302</td>\n",
       "      <td>5.878626e-07</td>\n",
       "    </tr>\n",
       "    <tr>\n",
       "      <th>min</th>\n",
       "      <td>46.296813</td>\n",
       "      <td>46.296813</td>\n",
       "      <td>0.000000</td>\n",
       "      <td>0.000000</td>\n",
       "      <td>402.749511</td>\n",
       "      <td>398.571429</td>\n",
       "      <td>0.000000</td>\n",
       "      <td>0.000000</td>\n",
       "      <td>1.428571</td>\n",
       "      <td>1.010153</td>\n",
       "      <td>...</td>\n",
       "      <td>0.022659</td>\n",
       "      <td>-0.338058</td>\n",
       "      <td>0.066605</td>\n",
       "      <td>-6.280000e-06</td>\n",
       "      <td>-0.006313</td>\n",
       "      <td>0.007209</td>\n",
       "      <td>0.023758</td>\n",
       "      <td>-1.500000</td>\n",
       "      <td>0.065598</td>\n",
       "      <td>-3.600000e-05</td>\n",
       "    </tr>\n",
       "    <tr>\n",
       "      <th>25%</th>\n",
       "      <td>75.712579</td>\n",
       "      <td>75.134409</td>\n",
       "      <td>5.434085</td>\n",
       "      <td>29.529280</td>\n",
       "      <td>602.681314</td>\n",
       "      <td>594.285714</td>\n",
       "      <td>44.265014</td>\n",
       "      <td>1959.391507</td>\n",
       "      <td>19.611366</td>\n",
       "      <td>44.705586</td>\n",
       "      <td>...</td>\n",
       "      <td>0.043613</td>\n",
       "      <td>-0.097154</td>\n",
       "      <td>0.100388</td>\n",
       "      <td>-6.650000e-08</td>\n",
       "      <td>-0.003594</td>\n",
       "      <td>0.010228</td>\n",
       "      <td>0.061393</td>\n",
       "      <td>-0.144882</td>\n",
       "      <td>0.133118</td>\n",
       "      <td>-2.440000e-07</td>\n",
       "    </tr>\n",
       "    <tr>\n",
       "      <th>50%</th>\n",
       "      <td>84.265266</td>\n",
       "      <td>84.337349</td>\n",
       "      <td>7.087726</td>\n",
       "      <td>50.235863</td>\n",
       "      <td>718.710801</td>\n",
       "      <td>711.428571</td>\n",
       "      <td>62.911656</td>\n",
       "      <td>3957.876464</td>\n",
       "      <td>38.881723</td>\n",
       "      <td>63.448132</td>\n",
       "      <td>...</td>\n",
       "      <td>0.061393</td>\n",
       "      <td>-0.074158</td>\n",
       "      <td>0.132169</td>\n",
       "      <td>-1.470000e-09</td>\n",
       "      <td>-0.003082</td>\n",
       "      <td>0.012178</td>\n",
       "      <td>0.089584</td>\n",
       "      <td>-0.101486</td>\n",
       "      <td>0.198532</td>\n",
       "      <td>-1.470000e-09</td>\n",
       "    </tr>\n",
       "    <tr>\n",
       "      <th>75%</th>\n",
       "      <td>100.403899</td>\n",
       "      <td>100.961539</td>\n",
       "      <td>9.269878</td>\n",
       "      <td>85.930645</td>\n",
       "      <td>801.819961</td>\n",
       "      <td>798.571429</td>\n",
       "      <td>85.403348</td>\n",
       "      <td>7293.731832</td>\n",
       "      <td>63.415978</td>\n",
       "      <td>86.202438</td>\n",
       "      <td>...</td>\n",
       "      <td>0.100296</td>\n",
       "      <td>-0.057907</td>\n",
       "      <td>0.201004</td>\n",
       "      <td>6.100000e-08</td>\n",
       "      <td>-0.002668</td>\n",
       "      <td>0.015758</td>\n",
       "      <td>0.155273</td>\n",
       "      <td>-0.070475</td>\n",
       "      <td>0.294754</td>\n",
       "      <td>2.470000e-07</td>\n",
       "    </tr>\n",
       "    <tr>\n",
       "      <th>max</th>\n",
       "      <td>149.121673</td>\n",
       "      <td>150.537634</td>\n",
       "      <td>30.646925</td>\n",
       "      <td>939.233994</td>\n",
       "      <td>1297.857143</td>\n",
       "      <td>1297.857143</td>\n",
       "      <td>343.922180</td>\n",
       "      <td>118282.465600</td>\n",
       "      <td>551.840150</td>\n",
       "      <td>371.478411</td>\n",
       "      <td>...</td>\n",
       "      <td>0.265915</td>\n",
       "      <td>-0.040192</td>\n",
       "      <td>0.574951</td>\n",
       "      <td>4.600000e-06</td>\n",
       "      <td>0.002455</td>\n",
       "      <td>0.082655</td>\n",
       "      <td>1.047180</td>\n",
       "      <td>-0.040970</td>\n",
       "      <td>2.547180</td>\n",
       "      <td>3.520000e-05</td>\n",
       "    </tr>\n",
       "  </tbody>\n",
       "</table>\n",
       "<p>8 rows × 69 columns</p>\n",
       "</div>"
      ],
      "text/plain": [
       "          meanHrECG   medianHrECG      stdHrECG      varHrECG    meanHrvECG  \\\n",
       "count  61967.000000  61967.000000  61967.000000  61967.000000  61967.000000   \n",
       "mean      89.026910     89.140086      7.770233     72.198734    715.590683   \n",
       "std       20.491811     21.164442      3.438373     76.888981    157.587127   \n",
       "min       46.296813     46.296813      0.000000      0.000000    402.749511   \n",
       "25%       75.712579     75.134409      5.434085     29.529280    602.681314   \n",
       "50%       84.265266     84.337349      7.087726     50.235863    718.710801   \n",
       "75%      100.403899    100.961539      9.269878     85.930645    801.819961   \n",
       "max      149.121673    150.537634     30.646925    939.233994   1297.857143   \n",
       "\n",
       "       medianHrvECG     stdHrvECG      varHrvECG      rmssdECG       sdnnECG  \\\n",
       "count  61967.000000  61967.000000   61967.000000  61967.000000  61967.000000   \n",
       "mean     709.937213     68.066695    5850.622679     50.795323     68.725053   \n",
       "std      161.326563     34.893657    6037.382592     44.263938     35.117294   \n",
       "min      398.571429      0.000000       0.000000      1.428571      1.010153   \n",
       "25%      594.285714     44.265014    1959.391507     19.611366     44.705586   \n",
       "50%      711.428571     62.911656    3957.876464     38.881723     63.448132   \n",
       "75%      798.571429     85.403348    7293.731832     63.415978     86.202438   \n",
       "max     1297.857143    343.922180  118282.465600    551.840150    371.478411   \n",
       "\n",
       "       ...        maxEMG        minEMG      rangeEMG      slopeEMG  \\\n",
       "count  ...  61967.000000  61967.000000  61967.000000  6.196700e+04   \n",
       "mean   ...      0.078712     -0.093777      0.172488 -3.217047e-09   \n",
       "std    ...      0.050872      0.055850      0.104647  2.739441e-07   \n",
       "min    ...      0.022659     -0.338058      0.066605 -6.280000e-06   \n",
       "25%    ...      0.043613     -0.097154      0.100388 -6.650000e-08   \n",
       "50%    ...      0.061393     -0.074158      0.132169 -1.470000e-09   \n",
       "75%    ...      0.100296     -0.057907      0.201004  6.100000e-08   \n",
       "max    ...      0.265915     -0.040192      0.574951  4.600000e-06   \n",
       "\n",
       "          meanEMG.1  standard_deviationEMG.1      maxEMG.1      minEMG.1  \\\n",
       "count  61967.000000             61967.000000  61967.000000  61967.000000   \n",
       "mean      -0.002932                 0.014236      0.126293     -0.132217   \n",
       "std        0.001412                 0.007998      0.115837      0.144272   \n",
       "min       -0.006313                 0.007209      0.023758     -1.500000   \n",
       "25%       -0.003594                 0.010228      0.061393     -0.144882   \n",
       "50%       -0.003082                 0.012178      0.089584     -0.101486   \n",
       "75%       -0.002668                 0.015758      0.155273     -0.070475   \n",
       "max        0.002455                 0.082655      1.047180     -0.040970   \n",
       "\n",
       "         rangeEMG.1    slopeEMG.1  \n",
       "count  61967.000000  6.196700e+04  \n",
       "mean       0.258509  1.200035e-09  \n",
       "std        0.240302  5.878626e-07  \n",
       "min        0.065598 -3.600000e-05  \n",
       "25%        0.133118 -2.440000e-07  \n",
       "50%        0.198532 -1.470000e-09  \n",
       "75%        0.294754  2.470000e-07  \n",
       "max        2.547180  3.520000e-05  \n",
       "\n",
       "[8 rows x 69 columns]"
      ]
     },
     "execution_count": 25,
     "metadata": {},
     "output_type": "execute_result"
    }
   ],
   "source": [
    "df = df.drop(['endEDA','startEDA','amuse',\n",
    "              'labelEDA','labelEDAwrist','endEDAwrist',\n",
    "              'startEDAwrist','labelEDA','labelEDAwrist','Unnamed: 0','subject'],axis=1)\n",
    "df.describe()"
   ]
  },
  {
   "cell_type": "code",
   "execution_count": 26,
   "metadata": {},
   "outputs": [
    {
     "data": {
      "text/plain": [
       "Index(['meanHrECG', 'medianHrECG', 'stdHrECG', 'varHrECG', 'meanHrvECG',\n",
       "       'medianHrvECG', 'stdHrvECG', 'varHrvECG', 'rmssdECG', 'sdnnECG',\n",
       "       'nn50ECG', 'pnn50ECG', 'mrriECG', 'mhrECG', 'meanEDA', 'stdEDA',\n",
       "       'rangeEDA', 'maxEDA', 'minEDA', 'slopeEDA', 'meanEDAwrist',\n",
       "       'stdEDAwrist', 'rangeEDAwrist', 'maxEDAwrist', 'minEDAwrist',\n",
       "       'slopeEDAwrist', 'stress', 'meanResp', 'standard_deviationResp',\n",
       "       'maxResp', 'minResp', 'rangeResp', 'slopeResp', 'breath_rateResp',\n",
       "       'in_ex_ratioResp', 'in_meanResp', 'in_stdResp', 'ex_meanResp',\n",
       "       'ex_stdResp', 'meanResp.1', 'standard_deviationResp.1', 'maxResp.1',\n",
       "       'minResp.1', 'rangeResp.1', 'slopeResp.1', 'breath_rateResp.1',\n",
       "       'in_ex_ratioResp.1', 'in_meanResp.1', 'in_stdResp.1', 'ex_meanResp.1',\n",
       "       'ex_stdResp.1', 'meanTemp', 'standard_deviationTemp', 'maxTemp',\n",
       "       'minTemp', 'rangeTemp', 'slopeTemp', 'meanEMG', 'standard_deviationEMG',\n",
       "       'maxEMG', 'minEMG', 'rangeEMG', 'slopeEMG', 'meanEMG.1',\n",
       "       'standard_deviationEMG.1', 'maxEMG.1', 'minEMG.1', 'rangeEMG.1',\n",
       "       'slopeEMG.1'],\n",
       "      dtype='object')"
      ]
     },
     "execution_count": 26,
     "metadata": {},
     "output_type": "execute_result"
    }
   ],
   "source": [
    "df.columns"
   ]
  },
  {
   "cell_type": "code",
   "execution_count": 27,
   "metadata": {},
   "outputs": [],
   "source": [
    "X=df.drop(['stress'],axis=1)\n",
    "Y=df['stress']\n",
    "X, XTest, Y, YTest = train_test_split(X,Y, train_size = 0.8,random_state=420)"
   ]
  },
  {
   "cell_type": "markdown",
   "metadata": {},
   "source": [
    "## Standard Scaler\n",
    "In these three lines of code, I transform the training set parameters into a normalized standard data. What this means is that all data are changed into where they would be if the data was in a normal distrubition graph (with 1 being 1 standard deviation away from the mean, 2 being 2 std away and so on). I also do this for the test set parameters"
   ]
  },
  {
   "cell_type": "code",
   "execution_count": 28,
   "metadata": {},
   "outputs": [],
   "source": [
    "standard = StandardScaler()\n",
    "xStand = standard.fit_transform(X)\n",
    "xTestStand = standard.transform(XTest)"
   ]
  },
  {
   "cell_type": "markdown",
   "metadata": {},
   "source": [
    "## Demention Reduction\n",
    "With so many different features that we extracted from the raw data, we needed to find the few that where really nessesary to better generalize to the final test set. This will allow new data (potenital not from this study however we didn't look into that) to have a better chance of correctly being identified. Mainly just not overfitting the data. We used PCA to find where the correct number of attubites would be and found that 28 attubiutes correctly explained about 95% of the variation in the data so we went with keeping those 28. The 28 attubites' explained variation is also given. "
   ]
  },
  {
   "cell_type": "code",
   "execution_count": 29,
   "metadata": {},
   "outputs": [
    {
     "name": "stdout",
     "output_type": "stream",
     "text": [
      "28\n"
     ]
    },
    {
     "data": {
      "image/png": "[encoded data removed]",
      "text/plain": [
       "<Figure size 432x288 with 1 Axes>"
      ]
     },
     "metadata": {
      "needs_background": "light"
     },
     "output_type": "display_data"
    }
   ],
   "source": [
    "pca = PCA()\n",
    "pca.fit(xStand)\n",
    "cumsum = np.cumsum(pca.explained_variance_ratio_)\n",
    "d = np.argmax(cumsum >= 0.95) + 1\n",
    "print(d)\n",
    "plt.plot(cumsum)\n",
    "plt.axhline(y=0.95, color='r', linestyle='-')\n",
    "plt.axhline(y=1, color='black', linestyle='--')\n",
    "plt.axvline(x=d,color='r',linestyle=\"--\")\n",
    "plt.show()"
   ]
  },
  {
   "cell_type": "code",
   "execution_count": 30,
   "metadata": {},
   "outputs": [
    {
     "data": {
      "text/plain": [
       "array([0.17305864, 0.11419787, 0.07572288, 0.06511276, 0.05517322,\n",
       "       0.05014901, 0.04750093, 0.04471977, 0.04019645, 0.02763329,\n",
       "       0.02512391, 0.02148717, 0.01965797, 0.01749623, 0.016579  ,\n",
       "       0.01522622, 0.01496167, 0.0147875 , 0.01447514, 0.01426878,\n",
       "       0.01417511, 0.01337925, 0.01243999, 0.01200354, 0.00960948,\n",
       "       0.00872842, 0.00785272, 0.00694008])"
      ]
     },
     "execution_count": 30,
     "metadata": {},
     "output_type": "execute_result"
    }
   ],
   "source": [
    "pca = PCA(n_components=d)\n",
    "XDim = pca.fit_transform(xStand)\n",
    "XTestDim = pca.transform(xTestStand)\n",
    "pca.explained_variance_ratio_"
   ]
  },
  {
   "cell_type": "markdown",
   "metadata": {},
   "source": [
    "## Preforming Machine Learning\n",
    "Here we selected 6 different algorithums. These algorithums are suitible for this project because we are trying to classifier if a time frame is during a stress point or an amused point. And all 6 of these algorithums are normally used in classification. In the end, we choose Random Forest Classifier because of it's low root mean square error compared to the others. \n",
    "We also ran the f-score, perision, and recall predictions on each model and Random Forest classifier still performed the best with a very high .999 or higher on all three. Along with an accuracy of also .999 \n",
    "Finally, we made a confusion matrix of the training set's Random Forest Classifier and found that it only missed 29 times out of the 49,573 total rows"
   ]
  },
  {
   "cell_type": "code",
   "execution_count": 31,
   "metadata": {},
   "outputs": [],
   "source": [
    "lr = LogisticRegression(solver = 'liblinear')\n",
    "sgd = SGDClassifier()\n",
    "svc = LinearSVC()\n",
    "knc = KNeighborsClassifier()\n",
    "rfc = RandomForestClassifier()\n",
    "vote = VotingClassifier([('lr', lr), ('rf', rfc), ('svc', svc),('knc',knc),('sgd',sgd)],voting='hard')\n",
    "#listOfModels = [lr,sgd,svc,knc,rfc,vote]"
   ]
  },
  {
   "cell_type": "code",
   "execution_count": 32,
   "metadata": {},
   "outputs": [
    {
     "name": "stdout",
     "output_type": "stream",
     "text": [
      "mean: 0.2664490732891017 std: 0.0056103767798242185\n",
      "mean: 0.30497104792018404 std: 0.005212464388369008\n",
      "mean: 0.26602436740065155 std: 0.0059756549509440956\n",
      "mean: 0.06841179452671804 std: 0.007766091400544526\n"
     ]
    },
    {
     "name": "stderr",
     "output_type": "stream",
     "text": [
      "/usr/local/share/anaconda3/lib/python3.7/site-packages/sklearn/ensemble/forest.py:246: FutureWarning: The default value of n_estimators will change from 10 in version 0.20 to 100 in 0.22.\n",
      "  \"10 in version 0.20 to 100 in 0.22.\", FutureWarning)\n"
     ]
    },
    {
     "name": "stdout",
     "output_type": "stream",
     "text": [
      "mean: 0.017473524780848713 std: 0.008829730606143234\n",
      "mean: 0.23730011437080784 std: 0.008368155387873246\n"
     ]
    }
   ],
   "source": [
    "def testModel(model,X,Y):\n",
    "    model.fit(X,Y)\n",
    "    scores = cross_val_score(model,X, Y,scoring='neg_mean_squared_error',cv=10)\n",
    "    rmse_scores = np.sqrt(-scores)\n",
    "    print (\"mean: %s std: %s\" % (rmse_scores.mean(),rmse_scores.std()))\n",
    "for i in listOfModels:\n",
    "    testModel(i,XDim,Y)"
   ]
  },
  {
   "cell_type": "code",
   "execution_count": 33,
   "metadata": {},
   "outputs": [
    {
     "name": "stdout",
     "output_type": "stream",
     "text": [
      "ngram: RandomForestClassifier(bootstrap=True, class_weight=None, criterion='gini',\n",
      "            max_depth=None, max_features='auto', max_leaf_nodes=None,\n",
      "            min_impurity_decrease=0.0, min_impurity_split=None,\n",
      "            min_samples_leaf=1, min_samples_split=2,\n",
      "            min_weight_fraction_leaf=0.0, n_estimators=10, n_jobs=None,\n",
      "            oob_score=False, random_state=None, verbose=0,\n",
      "            warm_start=False) Persision: 0.9997174520453332 Recall: 0.9994036970781157 f-score: 0.9995605499403605\n"
     ]
    }
   ],
   "source": [
    "def testModel(model,X,Y):\n",
    "    model.fit(X,Y)\n",
    "    yPred = cross_val_predict(model, X, Y,cv=10)\n",
    "    print('ngram: %s Persision: %s Recall: %s f-score: %s' %(model, precision_score(Y,yPred),recall_score(Y,yPred),f1_score(Y,yPred)))\n",
    "for i in listOfModels:\n",
    "    testModel(i,XDim,Y)"
   ]
  },
  {
   "cell_type": "code",
   "execution_count": 16,
   "metadata": {},
   "outputs": [
    {
     "name": "stderr",
     "output_type": "stream",
     "text": [
      "/usr/local/share/anaconda3/lib/python3.7/site-packages/sklearn/ensemble/forest.py:246: FutureWarning: The default value of n_estimators will change from 10 in version 0.20 to 100 in 0.22.\n",
      "  \"10 in version 0.20 to 100 in 0.22.\", FutureWarning)\n"
     ]
    },
    {
     "name": "stdout",
     "output_type": "stream",
     "text": [
      "rmse_scores mean is 0.01874077365060986 and sd is 0.01316335259005014\n"
     ]
    }
   ],
   "source": [
    "rfc.fit(XDim,Y)\n",
    "scores = cross_val_score(rfc,XDim,Y,scoring='neg_mean_squared_error',cv=10)\n",
    "rmse_scores = np.sqrt(-scores)\n",
    "print('rmse_scores mean is %s and sd is %s'%(rmse_scores.mean(),rmse_scores.std()))"
   ]
  },
  {
   "cell_type": "code",
   "execution_count": 35,
   "metadata": {},
   "outputs": [
    {
     "name": "stdout",
     "output_type": "stream",
     "text": [
      "0.9995562100336877\n",
      "[[17706     4]\n",
      " [   18 31845]]\n"
     ]
    }
   ],
   "source": [
    "YPred = cross_val_predict(rfc, XDim, Y,cv=10)\n",
    "print(accuracy_score(Y,YPred))\n",
    "print(confusion_matrix(Y,YPred))"
   ]
  },
  {
   "cell_type": "markdown",
   "metadata": {},
   "source": [
    "## Running on Test Set\n",
    "The final results of the model after being run on the test set are very similar to the training's cross validation predictions. With an Accuracy of .999 and a f-score of .999. "
   ]
  },
  {
   "cell_type": "code",
   "execution_count": 22,
   "metadata": {},
   "outputs": [
    {
     "name": "stdout",
     "output_type": "stream",
     "text": [
      "0.02376529853026663\n",
      "Accuracy: 0.9994352105857673\n",
      "[[4481    2]\n",
      " [   5 7906]]\n",
      "0.9995574941526013\n"
     ]
    }
   ],
   "source": [
    "final_pred = rfc.predict(XTestDim)\n",
    "final_mse = mean_squared_error(YTest,final_pred)\n",
    "print(np.sqrt(final_mse))\n",
    "print (\"Accuracy: %s\" % (accuracy_score(YTest, final_pred)))\n",
    "print(confusion_matrix(YTest,final_pred))\n",
    "print(f1_score(YTest,final_pred))"
   ]
  },
  {
   "cell_type": "markdown",
   "metadata": {},
   "source": [
    "## Significant Findings\n",
    "What this means is that a machine can almost perfectly predict whither or not someone is stressed or amused. However, this does not predict other emotions. \n",
    "So the significant findings of the machine learning part of the project are that there is a significant difference in body conditions between stress and amusement. Does this result mean a machine can accurately predict somones emotions? Probably not. This model is really only good if we know someone is stressed or amused, just not which one. \n",
    "While it isn't an amazing finding, it does start as a stepping stone into machines reading emotions, and how differently our bodies react to different stimuli.  "
   ]
  }
 ],
 "metadata": {
  "kernelspec": {
   "display_name": "Python 3",
   "language": "python",
   "name": "python3"
  },
  "language_info": {
   "codemirror_mode": {
    "name": "ipython",
    "version": 3
   },
   "file_extension": ".py",
   "mimetype": "text/x-python",
   "name": "python",
   "nbconvert_exporter": "python",
   "pygments_lexer": "ipython3",
   "version": "3.7.3"
  }
 },
 "nbformat": 4,
 "nbformat_minor": 2
}
