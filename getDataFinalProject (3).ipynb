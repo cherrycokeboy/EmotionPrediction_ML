{
 "cells": [
  {
   "cell_type": "markdown",
   "metadata": {},
   "source": [
    "Link to Data: https://archive.ics.uci.edu/ml/datasets/WESAD+%28Wearable+Stress+and+Affect+Detection%29"
   ]
  },
  {
   "cell_type": "markdown",
   "metadata": {},
   "source": [
    "## Getting Data Program\n",
    "This program is where I retieved the data from the pickle file and created the rows (windows) to be able to anyalze it using machine learning. This Program only requires EDA and BVP data. "
   ]
  },
  {
   "cell_type": "code",
   "execution_count": 3,
   "metadata": {},
   "outputs": [],
   "source": [
    "import numpy as np\n",
    "from scipy.signal import butter, lfilter, freqz, filtfilt\n",
    "import matplotlib.pyplot as plt\n",
    "import pandas as pd\n",
    "import pickle\n",
    "import json\n",
    "import time\n",
    "#import heartrate"
   ]
  },
  {
   "cell_type": "markdown",
   "metadata": {},
   "source": [
    "### Butter Low Pass Filter\n",
    "here is where we did hte butter low pass filter which would shrink the high ends of the data to better run models on the data and gather certain key values such as heart rate and breath intake rate. "
   ]
  },
  {
   "cell_type": "code",
   "execution_count": 4,
   "metadata": {},
   "outputs": [],
   "source": [
    "def butter_lowpass(cutoff, fs, order=5):\n",
    "    nyq = 0.5 * fs\n",
    "    normal_cutoff = cutoff / nyq\n",
    "    b, a = butter(order, normal_cutoff, btype='low', analog=False)\n",
    "    return b, a"
   ]
  },
  {
   "cell_type": "code",
   "execution_count": 5,
   "metadata": {},
   "outputs": [],
   "source": [
    "def butter_lowpass_filter(data, cutoff, fs, order=5):\n",
    "    b, a = butter_lowpass(cutoff, fs, order=order)\n",
    "    y = filtfilt(b, a, data,axis=0)\n",
    "    return y"
   ]
  },
  {
   "cell_type": "markdown",
   "metadata": {},
   "source": [
    "### Get Info\n",
    "This method is called int the function shifting windows. It is used to return a dataframe / row of one window of time. This was used for EDA data. "
   ]
  },
  {
   "cell_type": "code",
   "execution_count": 6,
   "metadata": {},
   "outputs": [],
   "source": [
    "def get_info(val,start,end):\n",
    "    mean = val.mean()\n",
    "    sd = np.std(val)\n",
    "    maxy = val.max()\n",
    "    miny = val.min()\n",
    "    rangey = maxy - miny\n",
    "    slope = (val[-1] - val[0]) / (end-start)\n",
    "    return pd.DataFrame.from_dict({\"mean\":[mean],\"std\":[sd],'range':[rangey],'max':[maxy],'min':[miny],'slope':[slope],\"start\":[start],\"end\":[end]})"
   ]
  },
  {
   "cell_type": "markdown",
   "metadata": {},
   "source": [
    "### Shifing Window\n",
    "shifingWindow recives a dataframe of raw EDA data (df), a total window of time int form (shiftWin), and an int of the number of rows to shift by (shiftStep). \n",
    "\n",
    "Returns a dataframe where each row is a window of time with columns mean, std, range, max, min, and slope for that window of time. Also has a column named label which is the target column which states whither the person was in a stressful situation or not. "
   ]
  },
  {
   "cell_type": "code",
   "execution_count": 8,
   "metadata": {},
   "outputs": [],
   "source": [
    "def shifingWindow(df,shiftWin, shiftStep):\n",
    "    returnDf = pd.DataFrame(columns= ['mean','std','range','max','min','slope','label'])\n",
    "    for i in range(0,len(df),shiftStep):\n",
    "        maxRange = i + shiftWin\n",
    "        oneRow = get_info(df[i:maxRange]['y'].values,i,maxRange)\n",
    "        returnDf = returnDf.append(oneRow.iloc[0],ignore_index=True)\n",
    "        returnDf['label'] = df['lables'].iloc[0]\n",
    "    return returnDf\n"
   ]
  },
  {
   "cell_type": "markdown",
   "metadata": {},
   "source": [
    "### Pickles\n",
    "A quick method that opens a pickle file and returns a dataframe. "
   ]
  },
  {
   "cell_type": "code",
   "execution_count": 9,
   "metadata": {},
   "outputs": [],
   "source": [
    "def openPickle(thePickle):\n",
    "    with open(thePickle, 'rb') as f:\n",
    "        u = pickle._Unpickler(f)\n",
    "        u.encoding = 'latin1'\n",
    "        return u.load()"
   ]
  },
  {
   "cell_type": "markdown",
   "metadata": {},
   "source": [
    "### Getting One Set of Raw Data\n",
    "This function returns one set of data from the pickle file. For example, p would be the pickle file of a subject's data, and one would be the string 'EDA' which would get the eda data from that subject. It would only return the stress and amusment data."
   ]
  },
  {
   "cell_type": "code",
   "execution_count": 10,
   "metadata": {},
   "outputs": [],
   "source": [
    "def getOne(p,one):\n",
    "    oneDict = p['signal']['chest'][one]\n",
    "    labels = p['label']\n",
    "    onedf = pd.DataFrame(data=oneDict).reset_index()\n",
    "    onedf['lables'] = pd.Series(labels, index=onedf.index)\n",
    "    y = butter_lowpass_filter(oneDict, 5, 700, 6)\n",
    "    onedf['y'] = pd.DataFrame(y)\n",
    "    #onedf.rename(index=str, columns={\"index\": \"index\", 0: \"y\",'lables':'lables'},inplace=True)\n",
    "    stressDf = onedf[(onedf['lables'] == 2)]\n",
    "    amuseDf = onedf[(onedf['lables'] == 3)]\n",
    "    return (stressDf,amuseDf)"
   ]
  },
  {
   "cell_type": "markdown",
   "metadata": {},
   "source": [
    "### Graph Data\n",
    "Another quick function that graphs a part of the data. Where df is the pre-processed data, and i is the column you want to graph by ."
   ]
  },
  {
   "cell_type": "code",
   "execution_count": 11,
   "metadata": {},
   "outputs": [],
   "source": [
    "def graphData(df,i):\n",
    "    #plt.plot(t, df, 'b-', label='data')\n",
    "\n",
    "    for test in list(df.columns):\n",
    "        if \"Unnamed\" in test or \"start\" in test or \"end\" in test or \"label\" in test or \"subject\" in test:\n",
    "            df = df.drop(test,axis=1)\n",
    "    columns = list(df.columns)    \n",
    "    for by in columns:\n",
    "        fig = plt.figure()\n",
    "        fig.add_axes()        \n",
    "        temp = df.reset_index()\n",
    "        num = 101 + ((i%10)*10) + (i//10)*100\n",
    "        plt.plot(range(len(temp[temp['stress'] == 1])), temp[by][temp['stress'] == 1], 'g-', linewidth=2,label='stress')\n",
    "        plt.plot(range(len(temp[temp['amuse']==1])), temp[by][temp['amuse'] == 1], 'r-', linewidth=2,label='amuse')\n",
    "        plt.title('Subject '+str(i)+\" \"+by)\n",
    "        plt.xlabel('row')\n",
    "        plt.ylabel(by)\n",
    "        plt.savefig('S'+str(i)+'\\\\'+by+'.png')\n",
    "        #plt.show()\n",
    "    plt.xlabel('Time [sec]')\n",
    "    #plt.xlim([1010 ,1000])\n"
   ]
  },
  {
   "cell_type": "markdown",
   "metadata": {},
   "source": [
    "### Saving Data\n",
    "This file creates a new .csv file of the processed data with windows. Creates a seperate file for amuse and stress data. "
   ]
  },
  {
   "cell_type": "code",
   "execution_count": 13,
   "metadata": {},
   "outputs": [],
   "source": [
    "def writeFile(name,stress,amuse,base,subject,final = False):\n",
    "    if final:\n",
    "        end = 'final'\n",
    "    else:\n",
    "        end = 'raw'\n",
    "    with open(''+subject+'\\\\'+subject+''+name+'stress'+end+'.csv','w') as f:\n",
    "        f.write(stress.to_csv())\n",
    "    with open(''+subject+'\\\\'+subject+''+name+'amuse'+end+'.csv','w') as f:\n",
    "        f.write(amuse.to_csv())"
   ]
  },
  {
   "cell_type": "markdown",
   "metadata": {},
   "source": [
    "### Putting it All Together\n",
    "Here we gather and orginize the data by going through subjects 2 - 17 (skipping 12 because that data wasn't included), opening the pickle, writing the EDA file and the BVP file for each subject. Then saving the file in each subject's folder. BVP data needed a seperate python file called heartrate. "
   ]
  },
  {
   "cell_type": "code",
   "execution_count": 14,
   "metadata": {},
   "outputs": [],
   "source": [
    "def main():\n",
    "\n",
    "    for i in [2,3,4,5,6,7,8,9,10,11,13,14,15,16,17]:\n",
    "        \n",
    "        p = openPickle('S'+str(i)+'\\S'+str(i)+'.pkl')\n",
    "        \n",
    "        stressEDA , amuseEDA = getOne(p,'EDA')\n",
    "        writeFile('EDA',stressEDA,amuseEDA,'S'+str(i))\n",
    "        writeBaseFile('EDA',baseEDA,'S'+str(i))\n",
    "        stressInfo = shifingWindow(stressEDA,420,175)\n",
    "        amuseInfo = shifingWindow(amuseEDA,420,175)\n",
    "        writeFile('EDA',stressInfo,amuseInfo,'S'+str(i),True)\n",
    "\n",
    "        stressECG, amuseECG = getOne(p,'ECG')\n",
    "        writeFile('BVP',stressECG,amuseECG,'S'+str(i))\n",
    "        #writeBaseFile('BVP',baseECG,'S'+str(i))\n",
    "        #df = pd.read_csv('S'+str(i)+'\\S'+str(i)+'combined.csv')\n",
    "        #graphData(df,i)\n",
    "        rristress = heartrate.findrrv(stressECG)\n",
    "        rriamuse = heartrate.findrrv(amuseECG)\n",
    "        writeFile('BVP',rristress,rriamuse,'S'+str(i),True)\n",
    "        print('done with '+str(i))\n",
    "                  \n",
    "#main()"
   ]
  },
  {
   "cell_type": "code",
   "execution_count": null,
   "metadata": {},
   "outputs": [],
   "source": []
  }
 ],
 "metadata": {
  "kernelspec": {
   "display_name": "Python 3",
   "language": "python",
   "name": "python3"
  },
  "language_info": {
   "codemirror_mode": {
    "name": "ipython",
    "version": 3
   },
   "file_extension": ".py",
   "mimetype": "text/x-python",
   "name": "python",
   "nbconvert_exporter": "python",
   "pygments_lexer": "ipython3",
   "version": "3.7.3"
  }
 },
 "nbformat": 4,
 "nbformat_minor": 2
}
